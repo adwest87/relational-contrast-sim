{
 "cells": [
  {
   "cell_type": "code",
   "execution_count": null,
   "id": "59169318",
   "metadata": {},
   "outputs": [],
   "source": [
    "import pandas as pd, matplotlib.pyplot as plt\n",
    "df = pd.read_csv(\"scan_coarse.csv\")          # or whatever filename you chose\n",
    "pivot = df.pivot(index=\"beta\", columns=\"alpha\", values=\"C\")\n",
    "plt.figure(figsize=(6,5))\n",
    "plt.imshow(pivot, origin=\"lower\", aspect=\"auto\")\n",
    "plt.colorbar(label=\"specific heat  C\")\n",
    "plt.xlabel(\"alpha\"); plt.ylabel(\"beta\")\n",
    "plt.title(\"Coarse scan, n=128\")\n",
    "plt.show()\n"
   ]
  }
 ],
 "metadata": {
  "kernelspec": {
   "display_name": "Python 3",
   "language": "python",
   "name": "python3"
  },
  "language_info": {
   "codemirror_mode": {
    "name": "ipython",
    "version": 3
   },
   "file_extension": ".py",
   "mimetype": "text/x-python",
   "name": "python",
   "nbconvert_exporter": "python",
   "pygments_lexer": "ipython3",
   "version": "3.13.4"
  }
 },
 "nbformat": 4,
 "nbformat_minor": 5
}
